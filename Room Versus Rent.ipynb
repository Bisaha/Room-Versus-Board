{
 "cells": [
  {
   "cell_type": "code",
   "execution_count": 238,
   "metadata": {
    "collapsed": true
   },
   "outputs": [],
   "source": [
    "import pandas as pd\n",
    "\n",
    "%matplotlib inline\n",
    "\n",
    "import matplotlib\n",
    "import numpy as np\n",
    "import matplotlib.pyplot as plt\n",
    "import matplotlib.ticker as mtick\n"
   ]
  },
  {
   "cell_type": "markdown",
   "metadata": {},
   "source": [
    "# Comparing Regents University Housing With County Rent\n",
    "\n",
    "This analysis was inspired by the Urban Institute's [\"Understanding College Affordability\" report](http://collegeaffordability.urban.org/prices-and-expenses/room-and-board/#/), specifically the section on room and board.\n",
    "\n",
    "The problem with this data is is that it is looking back to 2013, 2014. \n",
    "\n",
    "The Kansas Board of Regents unanimously passed [new room and board rates](https://www.kansasregents.org/resources/PDF/About/Board_Meetings/FY_2017/Agenda_Dec_20_2017_Board_Meeting.pdf) on December, 21st 2017 for the 2018-2019 academic years. \n",
    "\n",
    "To compare how these prices match up with local rents, I will be using the U.S. Department of Housing and Urban Development's [FY2018 Fair Market Rents (FMRs) estimates](https://www.huduser.gov/portal/datasets/fmr.html). \n",
    "\n",
    "There is a helpful [\"field guide\"](http://cityobservatory.org/a-field-guide-to-median-rent-statistics-contd/) from City Observatory about the estimates.\n",
    "\n"
   ]
  },
  {
   "cell_type": "markdown",
   "metadata": {},
   "source": [
    "# Determining Rates\n",
    "\n",
    "\n",
    "\n",
    "### Pittsburg State University\n",
    "To determine PSU's rate, I looked at the double room rate with 800 Dining Dollars Meal Plan on page 48 of the [Regents agenda](https://www.kansasregents.org/resources/PDF/About/Board_Meetings/FY_2017/Agenda_Dec_20_2017_Board_Meeting.pdf) and subtracted the 800 dollars. \n",
    "\n",
    "This rate is also for nine months (a full academic year). "
   ]
  },
  {
   "cell_type": "code",
   "execution_count": 239,
   "metadata": {
    "collapsed": false
   },
   "outputs": [
    {
     "name": "stdout",
     "output_type": "stream",
     "text": [
      "The PSU rate for a double occupancy room without a meal plan is $5430.\n"
     ]
    }
   ],
   "source": [
    "#\n",
    "psu_18_19_rate = 6230 - 800\n",
    "print(\"The PSU rate for a double occupancy room without a meal plan is ${}.\".format(psu_18_19_rate))\n"
   ]
  },
  {
   "cell_type": "markdown",
   "metadata": {},
   "source": [
    "### Kansas State University\n",
    "\n",
    "Kansas State is easier since the report breaks apart room rates from meal plans on page 59. The rate was doubled since it is listed for one semester"
   ]
  },
  {
   "cell_type": "code",
   "execution_count": 240,
   "metadata": {
    "collapsed": false
   },
   "outputs": [
    {
     "name": "stdout",
     "output_type": "stream",
     "text": [
      "The KSU rate for a double occupancy room without a meal plan is $4950.\n"
     ]
    }
   ],
   "source": [
    "ksu_18_19_rate = (2475*2)\n",
    "print(\"The KSU rate for a double occupancy room without a meal plan is ${}.\".format(ksu_18_19_rate))"
   ]
  },
  {
   "cell_type": "markdown",
   "metadata": {},
   "source": [
    "### The University of Kansas\n",
    "KU also breaks down by room on page 65. "
   ]
  },
  {
   "cell_type": "code",
   "execution_count": 241,
   "metadata": {
    "collapsed": false
   },
   "outputs": [
    {
     "name": "stdout",
     "output_type": "stream",
     "text": [
      "The KU rate for a double occupancy room without a meal plan is $6084.\n"
     ]
    }
   ],
   "source": [
    "ku_18_19_rate = 6084\n",
    "print(\"The KU rate for a double occupancy room without a meal plan is ${}.\".format(ku_18_19_rate))"
   ]
  },
  {
   "cell_type": "markdown",
   "metadata": {},
   "source": [
    "### Wichita State University\n",
    "The \"2 shared bedroom suite/1 bath\" can be found on page 72. "
   ]
  },
  {
   "cell_type": "code",
   "execution_count": 242,
   "metadata": {
    "collapsed": false
   },
   "outputs": [
    {
     "name": "stdout",
     "output_type": "stream",
     "text": [
      "The WSU rate for a double occupancy room without a meal plan is $6660.\n"
     ]
    }
   ],
   "source": [
    "wsu_18_19_rate = 6660\n",
    "print(\"The WSU rate for a double occupancy room without a meal plan is ${}.\".format(wsu_18_19_rate))"
   ]
  },
  {
   "cell_type": "markdown",
   "metadata": {},
   "source": [
    "### Emporia State University\n",
    "Emporia's rate for Morse can be found on page 57."
   ]
  },
  {
   "cell_type": "code",
   "execution_count": 243,
   "metadata": {
    "collapsed": false
   },
   "outputs": [
    {
     "name": "stdout",
     "output_type": "stream",
     "text": [
      "The ESU rate for a double occupancy room without a meal plan is $4690.\n"
     ]
    }
   ],
   "source": [
    "esu_18_19_rate = 4690\n",
    "print(\"The ESU rate for a double occupancy room without a meal plan is ${}.\".format(esu_18_19_rate))"
   ]
  },
  {
   "cell_type": "markdown",
   "metadata": {},
   "source": [
    "### Fort Hays University\n",
    "The Fort Hays rate can be found on page 52."
   ]
  },
  {
   "cell_type": "code",
   "execution_count": 244,
   "metadata": {
    "collapsed": false
   },
   "outputs": [
    {
     "name": "stdout",
     "output_type": "stream",
     "text": [
      "The FHU rate for a double occupancy room without a meal plan is $3864.\n"
     ]
    }
   ],
   "source": [
    "fhu_18_19_rate = 3864\n",
    "print(\"The FHU rate for a double occupancy room without a meal plan is ${}.\".format(fhu_18_19_rate))"
   ]
  },
  {
   "cell_type": "markdown",
   "metadata": {},
   "source": [
    "# County Rent\n",
    "\n",
    "I will be comparing double occupancy dorms to the mean between efficiency apartments and one bedrooms(both are medians). HUD appears to use efficiency to refer to any zero bedroom apartment. I will use the term studio instead since I believe it is the more common term. \n",
    "\n",
    "The most comparable situation to a student living in a double occupancy dorm room would be a studio apartment with a roommate. However, even this is a flawed comparison since studios have kitchens dorms often lack. To create a more conservative figure, I believe the average between studios and one bedrooms will be best (looking at the HUD numbers, there appears to be little price difference between the two in the counties I am observing anyway). It is also what is used by the Urban Institute in its analysis. \n",
    "\n",
    "Again, to get the county data, I will be using HUD's FY2018 Fair Market Rents (FMRs) estimates. \n",
    "\n",
    "I'll be comparing 2018 rents to academic year 2018-2019 because a student would likely start a lease in August or September 2018 that would remain steady through 2019, in the same way the universities will likely keep the same rates throughout the academic year.\n",
    "\n",
    "The estimates present monthly rents so I will multiple them by 9 so it matches the academic year."
   ]
  },
  {
   "cell_type": "code",
   "execution_count": 245,
   "metadata": {
    "collapsed": true
   },
   "outputs": [],
   "source": [
    "crawford_18 = ((545+549)/2)*9\n",
    "riley_18 = ((762+767)/2)*9\n",
    "#estimates for Riley include Pottawatomie County as well. \n",
    "douglas_18 = ((577+640)/2)*9\n",
    "ellis_18 = ((539+559)/2)*9\n",
    "lyon_18 = ((446+524)/2)*9\n",
    "sedgwick_18 = ((515+609)/2)*9\n",
    "#estimates for Sedgwick include Butler and Harvey Counties as well."
   ]
  },
  {
   "cell_type": "markdown",
   "metadata": {},
   "source": [
    "# Building the datasets"
   ]
  },
  {
   "cell_type": "code",
   "execution_count": 246,
   "metadata": {
    "collapsed": false
   },
   "outputs": [
    {
     "data": {
      "text/html": [
       "<div>\n",
       "<table border=\"1\" class=\"dataframe\">\n",
       "  <thead>\n",
       "    <tr style=\"text-align: right;\">\n",
       "      <th></th>\n",
       "      <th>county</th>\n",
       "      <th>county median estimate</th>\n",
       "      <th>dorm rates</th>\n",
       "    </tr>\n",
       "    <tr>\n",
       "      <th>school</th>\n",
       "      <th></th>\n",
       "      <th></th>\n",
       "      <th></th>\n",
       "    </tr>\n",
       "  </thead>\n",
       "  <tbody>\n",
       "    <tr>\n",
       "      <th>Pittsburg State University</th>\n",
       "      <td>Crawford</td>\n",
       "      <td>4923.0</td>\n",
       "      <td>5430</td>\n",
       "    </tr>\n",
       "    <tr>\n",
       "      <th>Kansas State University</th>\n",
       "      <td>Riley</td>\n",
       "      <td>6880.5</td>\n",
       "      <td>4950</td>\n",
       "    </tr>\n",
       "    <tr>\n",
       "      <th>Kansas University</th>\n",
       "      <td>Douglas</td>\n",
       "      <td>5476.5</td>\n",
       "      <td>6084</td>\n",
       "    </tr>\n",
       "    <tr>\n",
       "      <th>Fort Hays State University</th>\n",
       "      <td>Ellis</td>\n",
       "      <td>4941.0</td>\n",
       "      <td>3864</td>\n",
       "    </tr>\n",
       "    <tr>\n",
       "      <th>Emporia State University</th>\n",
       "      <td>Lyon</td>\n",
       "      <td>4365.0</td>\n",
       "      <td>4690</td>\n",
       "    </tr>\n",
       "    <tr>\n",
       "      <th>Wichita State University</th>\n",
       "      <td>Sedgwick</td>\n",
       "      <td>5058.0</td>\n",
       "      <td>6660</td>\n",
       "    </tr>\n",
       "  </tbody>\n",
       "</table>\n",
       "</div>"
      ],
      "text/plain": [
       "                              county  county median estimate  dorm rates\n",
       "school                                                                  \n",
       "Pittsburg State University  Crawford                  4923.0        5430\n",
       "Kansas State University        Riley                  6880.5        4950\n",
       "Kansas University            Douglas                  5476.5        6084\n",
       "Fort Hays State University     Ellis                  4941.0        3864\n",
       "Emporia State University        Lyon                  4365.0        4690\n",
       "Wichita State University    Sedgwick                  5058.0        6660"
      ]
     },
     "execution_count": 246,
     "metadata": {},
     "output_type": "execute_result"
    }
   ],
   "source": [
    "schools = [\n",
    "    {\n",
    "        \"school\":\"Pittsburg State University\",\n",
    "        \"county\":\"Crawford\",\n",
    "        \"dorm rates\": psu_18_19_rate,\n",
    "        \"county median estimate\": crawford_18\n",
    "    \n",
    "    },\n",
    "    {\n",
    "        \"school\":\"Kansas State University\",\n",
    "        \"county\":\"Riley\",\n",
    "        \"dorm rates\": ksu_18_19_rate,\n",
    "        \"county median estimate\": riley_18\n",
    "    },\n",
    "    {\n",
    "        \"school\":\"Kansas University\",\n",
    "        \"county\":\"Douglas\",\n",
    "        \"dorm rates\": ku_18_19_rate,\n",
    "        \"county median estimate\": douglas_18\n",
    "    },\n",
    "    {\n",
    "        \"school\":\"Fort Hays State University\",\n",
    "        \"county\":\"Ellis\",\n",
    "        \"dorm rates\": fhu_18_19_rate,\n",
    "        \"county median estimate\": ellis_18\n",
    "    },\n",
    "    {\n",
    "        \"school\":\"Emporia State University\",\n",
    "        \"county\":\"Lyon\",\n",
    "        \"dorm rates\": esu_18_19_rate,\n",
    "        \"county median estimate\": lyon_18\n",
    "    },\n",
    "    {\n",
    "        \"school\":\"Wichita State University\",\n",
    "        \"county\":\"Sedgwick\",\n",
    "        \"dorm rates\": wsu_18_19_rate,\n",
    "        \"county median estimate\": sedgwick_18\n",
    "    }\n",
    "]\n",
    "\n",
    "df = pd.DataFrame(schools).set_index(\"school\")\n",
    "\n",
    "df\n"
   ]
  },
  {
   "cell_type": "markdown",
   "metadata": {},
   "source": [
    "# Now to find out the difference\n",
    "Positive denoate how much is saved a year living on campus, while Negative show much extra is spent living on campus."
   ]
  },
  {
   "cell_type": "code",
   "execution_count": 247,
   "metadata": {
    "collapsed": false
   },
   "outputs": [
    {
     "data": {
      "text/plain": [
       "school\n",
       "Kansas State University       1930.5\n",
       "Fort Hays State University    1077.0\n",
       "Emporia State University      -325.0\n",
       "Pittsburg State University    -507.0\n",
       "Kansas University             -607.5\n",
       "Wichita State University     -1602.0\n",
       "Name: county_savings, dtype: float64"
      ]
     },
     "execution_count": 247,
     "metadata": {},
     "output_type": "execute_result"
    }
   ],
   "source": [
    "df[\"county_savings\"] = df[\"county median estimate\"] - df[\"dorm rates\"]\n",
    "df = df.sort_values(\"county_savings\",ascending=False)\n",
    "df[\"county_savings\"]"
   ]
  },
  {
   "cell_type": "markdown",
   "metadata": {},
   "source": [
    "# What about zip codes?\n",
    "Average rent may ver significantly in one city, let alone a county. \n",
    "\n",
    "HUD also gives us [estimates based on zipcodes](https://www.huduser.gov/portal/datasets/fmr/smallarea/index.html) so let's see how that compares. \n",
    "\n",
    "...unfortunately there are only three counties listed.\n",
    "\n",
    "City Observer also warns of large margins of error used for these smaller estimates. Because of that, it does not appear to be prudant to use zip code level data. But it is useful to see that the zip codes do not appear to vary wildely from the county numbers."
   ]
  },
  {
   "cell_type": "code",
   "execution_count": 248,
   "metadata": {
    "collapsed": false
   },
   "outputs": [
    {
     "name": "stdout",
     "output_type": "stream",
     "text": [
      "7020.0\n",
      "5490.0\n",
      "5040.0\n"
     ]
    }
   ],
   "source": [
    "riley_66506 = ((780+780)/2)*9\n",
    "douglas_66045 = ((580+640)/2)*9\n",
    "sedgwick_67260 = ((510+610)/2)*9\n",
    "print (riley_66506)\n",
    "print (douglas_66045)\n",
    "print (sedgwick_67260)"
   ]
  },
  {
   "cell_type": "markdown",
   "metadata": {},
   "source": [
    "# Is the gap widening?\n",
    "To answer this I will need to look at the 2017-2018 room and board rates and the 2017 HUD rates."
   ]
  },
  {
   "cell_type": "code",
   "execution_count": 251,
   "metadata": {
    "collapsed": false
   },
   "outputs": [],
   "source": [
    "psu_17_18_rate = 5430\n",
    "ksu_17_18_rate = 4830\n",
    "ku_17_18_rate = 5910\n",
    "fhu_17_18_rate = 3796\n",
    "esu_17_18_rate = 4560\n",
    "wsu_17_18_rate = 6470\n",
    "\n",
    "crawford_17 = ((552+555)/2)*9\n",
    "riley_17 = ((627+631)/2)*9\n",
    "douglas_17 = ((544+640)/2)*9\n",
    "ellis_17 = ((519+566)/2)*9\n",
    "lyon_17 = ((432+512)/2)*9\n",
    "sedgwick_17 = ((485+575)/2)*9\n"
   ]
  },
  {
   "cell_type": "code",
   "execution_count": 263,
   "metadata": {
    "collapsed": false
   },
   "outputs": [
    {
     "data": {
      "text/plain": [
       "school\n",
       "Fort Hays State University    1086.5\n",
       "Kansas State University        831.0\n",
       "Emporia State University      -312.0\n",
       "Pittsburg State University    -448.5\n",
       "Kansas University             -582.0\n",
       "Wichita State University     -1700.0\n",
       "Name: county_savings, dtype: float64"
      ]
     },
     "execution_count": 263,
     "metadata": {},
     "output_type": "execute_result"
    }
   ],
   "source": [
    "schools_17 = [\n",
    "    {\n",
    "        \"school\":\"Pittsburg State University\",\n",
    "        \"county\":\"Crawford\",\n",
    "        \"dorm rates\": psu_17_18_rate,\n",
    "        \"county median estimate\": crawford_17\n",
    "    \n",
    "    },\n",
    "    {\n",
    "        \"school\":\"Kansas State University\",\n",
    "        \"county\":\"Riley\",\n",
    "        \"dorm rates\": ksu_17_18_rate,\n",
    "        \"county median estimate\": riley_17\n",
    "    },\n",
    "    {\n",
    "        \"school\":\"Kansas University\",\n",
    "        \"county\":\"Douglas\",\n",
    "        \"dorm rates\": ku_17_18_rate,\n",
    "        \"county median estimate\": douglas_17\n",
    "    },\n",
    "    {\n",
    "        \"school\":\"Fort Hays State University\",\n",
    "        \"county\":\"Ellis\",\n",
    "        \"dorm rates\": fhu_17_18_rate,\n",
    "        \"county median estimate\": ellis_17\n",
    "    },\n",
    "    {\n",
    "        \"school\":\"Emporia State University\",\n",
    "        \"county\":\"Lyon\",\n",
    "        \"dorm rates\": esu_17_18_rate,\n",
    "        \"county median estimate\": lyon_17\n",
    "    },\n",
    "    {\n",
    "        \"school\":\"Wichita State University\",\n",
    "        \"county\":\"Sedgwick\",\n",
    "        \"dorm rates\": wsu_17_18_rate,\n",
    "        \"county median estimate\": sedgwick_17\n",
    "    }\n",
    "]\n",
    "\n",
    "df_17 = pd.DataFrame(schools_17).set_index(\"school\")\n",
    "\n",
    "df_17[\"county_savings\"] = df_17[\"county median estimate\"] - df_17[\"dorm rates\"]\n",
    "df_17 = df_17.sort_values(\"county_savings\",ascending=False)\n",
    "df_17[\"county_savings\"]\n",
    "# these are the 2017 estimates."
   ]
  },
  {
   "cell_type": "code",
   "execution_count": 262,
   "metadata": {
    "collapsed": false
   },
   "outputs": [
    {
     "data": {
      "text/plain": [
       "school\n",
       "Kansas State University       1930.5\n",
       "Fort Hays State University    1077.0\n",
       "Emporia State University      -325.0\n",
       "Pittsburg State University    -507.0\n",
       "Kansas University             -607.5\n",
       "Wichita State University     -1602.0\n",
       "Name: county_savings, dtype: float64"
      ]
     },
     "execution_count": 262,
     "metadata": {},
     "output_type": "execute_result"
    }
   ],
   "source": [
    "df[\"county_savings\"]\n",
    "# these are the 2018 estimates."
   ]
  },
  {
   "cell_type": "markdown",
   "metadata": {},
   "source": [
    "While on-campus housing costs do appear to be rising in relation to local rents (with the exception of WSU oddly enough), the estimates leave enough of a margin of error that I'm not willing to definitevely say the difference is widening. "
   ]
  },
  {
   "cell_type": "markdown",
   "metadata": {},
   "source": [
    "# Making graphs\n",
    "\n",
    "I want to make a horizontal bar graph showing how much is saved/lost each year by living on campus. "
   ]
  },
  {
   "cell_type": "code",
   "execution_count": 289,
   "metadata": {
    "collapsed": false
   },
   "outputs": [
    {
     "data": {
      "image/png": "[encoded data removed]",
      "text/plain": [
       "<matplotlib.figure.Figure at 0x10abd41d0>"
      ]
     },
     "metadata": {},
     "output_type": "display_data"
    }
   ],
   "source": [
    "fig, ax = plt.subplots()\n",
    "matplotlib.rcParams['font.sans-serif'] = \"Arial\"\n",
    "\n",
    "\n",
    "colors=['#e03c31' if row.county_savings < 1 else '#4f78d6' for name,row in df.iterrows()]\n",
    "\n",
    "df.plot(kind=\"barh\",y=\"county_savings\",ax=ax,color=colors,)\n",
    "ax.spines['top'].set_visible(False)\n",
    "ax.spines['right'].set_visible(False)\n",
    "\n",
    "ax.legend_.remove()\n",
    "ax.set_ylabel(\"\")\n",
    "ax.grid(which='major', linestyle=':',alpha=.3)\n",
    "ax.yaxis.grid(False)\n",
    "ax.tick_params(which='both', # Options for both major and minor ticks\n",
    "                top='off', # turn off top ticks\n",
    "                left='off', # turn off left ticks\n",
    "                right='off',  # turn off right ticks\n",
    "                bottom='off') # turn off bottom ticks\n",
    "ax.set_title(\"Difference Between Dorm Costs And Local Rent \\nFor An Academic Year\",loc=\"left\")\n",
    "\n",
    "\n",
    "fmt = '${x:.0f}'\n",
    "tick = mtick.StrMethodFormatter(fmt)\n",
    "ax.xaxis.set_major_formatter(tick) \n",
    "\n",
    "plt.tight_layout()\n",
    "\n",
    "\n",
    "plt.savefig(\"Difference.pdf\",transparent=True)"
   ]
  },
  {
   "cell_type": "markdown",
   "metadata": {},
   "source": [
    "## Footnote\n",
    "\n",
    "credit: Stephan Bisaha\n",
    "\n",
    "source: Kansas Board of Regents and United States Department of Housing and Urban Development\n",
    "\n",
    "notes: Negative numbers denote a higher cost for living on campus. University costs are based on the rate for one person in a dorm room shared by two students. Area cost is based on the average rent between studio and one bedroom apartment based on the FY2018 Fair Market Rents estimates for the county each university is located in. Wichita State includes the average rent for Sedgwick, Butler and Harvey County, while Kansas State University includes Riley and Pottawatomie County."
   ]
  },
  {
   "cell_type": "code",
   "execution_count": 294,
   "metadata": {
    "collapsed": false
   },
   "outputs": [
    {
     "data": {
      "image/png": "[encoded data removed]",
      "text/plain": [
       "<matplotlib.figure.Figure at 0x110966048>"
      ]
     },
     "metadata": {},
     "output_type": "display_data"
    }
   ],
   "source": [
    "fig, ax = plt.subplots()\n",
    "matplotlib.rcParams['font.sans-serif'] = \"Arial\"\n",
    "df.sort_values(\"dorm rates\").plot(kind=\"bar\",y=\"dorm rates\",ax=ax,color='#4f78d6')\n",
    "ax.spines['top'].set_visible(False)\n",
    "ax.spines['right'].set_visible(False)\n",
    "ax.legend_.remove()\n",
    "ax.set_xlabel(\"\")\n",
    "plt.xticks(rotation=40)\n",
    "plt.setp(ax.xaxis.get_majorticklabels(), ha='right')\n",
    "\n",
    "ax.set_title(\"Cost Of Dorms For One Academic Year\",loc=\"center\")\n",
    "\n",
    "ax.grid(which='major', linestyle=':',alpha=.3)\n",
    "ax.xaxis.grid(False)\n",
    "\n",
    "ax.tick_params(which='both', # Options for both major and minor ticks\n",
    "                top='off', # turn off top ticks\n",
    "                left='off', # turn off left ticks\n",
    "                right='off',  # turn off right ticks\n",
    "                bottom='off') # turn off bottom ticks\n",
    "\n",
    "fmt = '${x:.0f}'\n",
    "tick = mtick.StrMethodFormatter(fmt)\n",
    "ax.yaxis.set_major_formatter(tick) \n",
    "\n",
    "plt.savefig(\"cost.pdf\",transparent=True)"
   ]
  },
  {
   "cell_type": "code",
   "execution_count": 265,
   "metadata": {
    "collapsed": false
   },
   "outputs": [
    {
     "data": {
      "text/html": [
       "<div>\n",
       "<table border=\"1\" class=\"dataframe\">\n",
       "  <thead>\n",
       "    <tr style=\"text-align: right;\">\n",
       "      <th></th>\n",
       "      <th>county</th>\n",
       "      <th>county median estimate</th>\n",
       "      <th>dorm rates</th>\n",
       "      <th>county_savings</th>\n",
       "    </tr>\n",
       "    <tr>\n",
       "      <th>school</th>\n",
       "      <th></th>\n",
       "      <th></th>\n",
       "      <th></th>\n",
       "      <th></th>\n",
       "    </tr>\n",
       "  </thead>\n",
       "  <tbody>\n",
       "    <tr>\n",
       "      <th>Kansas State University</th>\n",
       "      <td>Riley</td>\n",
       "      <td>6880.5</td>\n",
       "      <td>4950</td>\n",
       "      <td>1930.5</td>\n",
       "    </tr>\n",
       "    <tr>\n",
       "      <th>Fort Hays State University</th>\n",
       "      <td>Ellis</td>\n",
       "      <td>4941.0</td>\n",
       "      <td>3864</td>\n",
       "      <td>1077.0</td>\n",
       "    </tr>\n",
       "    <tr>\n",
       "      <th>Emporia State University</th>\n",
       "      <td>Lyon</td>\n",
       "      <td>4365.0</td>\n",
       "      <td>4690</td>\n",
       "      <td>-325.0</td>\n",
       "    </tr>\n",
       "    <tr>\n",
       "      <th>Pittsburg State University</th>\n",
       "      <td>Crawford</td>\n",
       "      <td>4923.0</td>\n",
       "      <td>5430</td>\n",
       "      <td>-507.0</td>\n",
       "    </tr>\n",
       "    <tr>\n",
       "      <th>Kansas University</th>\n",
       "      <td>Douglas</td>\n",
       "      <td>5476.5</td>\n",
       "      <td>6084</td>\n",
       "      <td>-607.5</td>\n",
       "    </tr>\n",
       "    <tr>\n",
       "      <th>Wichita State University</th>\n",
       "      <td>Sedgwick</td>\n",
       "      <td>5058.0</td>\n",
       "      <td>6660</td>\n",
       "      <td>-1602.0</td>\n",
       "    </tr>\n",
       "  </tbody>\n",
       "</table>\n",
       "</div>"
      ],
      "text/plain": [
       "                              county  county median estimate  dorm rates  \\\n",
       "school                                                                     \n",
       "Kansas State University        Riley                  6880.5        4950   \n",
       "Fort Hays State University     Ellis                  4941.0        3864   \n",
       "Emporia State University        Lyon                  4365.0        4690   \n",
       "Pittsburg State University  Crawford                  4923.0        5430   \n",
       "Kansas University            Douglas                  5476.5        6084   \n",
       "Wichita State University    Sedgwick                  5058.0        6660   \n",
       "\n",
       "                            county_savings  \n",
       "school                                      \n",
       "Kansas State University             1930.5  \n",
       "Fort Hays State University          1077.0  \n",
       "Emporia State University            -325.0  \n",
       "Pittsburg State University          -507.0  \n",
       "Kansas University                   -607.5  \n",
       "Wichita State University           -1602.0  "
      ]
     },
     "execution_count": 265,
     "metadata": {},
     "output_type": "execute_result"
    }
   ],
   "source": [
    "df"
   ]
  }
 ],
 "metadata": {
  "kernelspec": {
   "display_name": "Python 3",
   "language": "python",
   "name": "python3"
  },
  "language_info": {
   "codemirror_mode": {
    "name": "ipython",
    "version": 3
   },
   "file_extension": ".py",
   "mimetype": "text/x-python",
   "name": "python",
   "nbconvert_exporter": "python",
   "pygments_lexer": "ipython3",
   "version": "3.5.1"
  }
 },
 "nbformat": 4,
 "nbformat_minor": 0
}
